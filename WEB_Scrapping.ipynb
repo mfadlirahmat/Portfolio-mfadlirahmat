{
 "cells": [
  {
   "cell_type": "code",
   "execution_count": 39,
   "metadata": {},
   "outputs": [],
   "source": [
    "import requests\n",
    "from bs4 import BeautifulSoup"
   ]
  },
  {
   "cell_type": "code",
   "execution_count": 40,
   "metadata": {},
   "outputs": [],
   "source": [
    "url = 'https://economictimes.indiatimes.com/markets/stocks/news'"
   ]
  },
  {
   "cell_type": "code",
   "execution_count": 41,
   "metadata": {},
   "outputs": [],
   "source": [
    "headers = {\n",
    "    'User-Agent': \"Mozilla/5.0 (Windows NT 10.0; Win64; x64) AppleWebKit/537.36 (KHTML, like Gecko) Chrome/89.0.4389.90 Safari/537.36 Edg/89.0.774.63\"\n",
    "\n",
    "}"
   ]
  },
  {
   "cell_type": "code",
   "execution_count": 42,
   "metadata": {},
   "outputs": [],
   "source": [
    "r = requests.get(url,{'headers':headers})"
   ]
  },
  {
   "cell_type": "code",
   "execution_count": 43,
   "metadata": {},
   "outputs": [],
   "source": [
    "soup = BeautifulSoup(r.text,'html.parser')"
   ]
  },
  {
   "cell_type": "code",
   "execution_count": 49,
   "metadata": {},
   "outputs": [
    {
     "data": {
      "text/plain": [
       "'NSE Academy, GIFT SEZ sign pact to launch certification in international financial services'"
      ]
     },
     "execution_count": 49,
     "metadata": {},
     "output_type": "execute_result"
    }
   ],
   "source": [
    "soup.find_all('div',{'class':'eachStory'})[0].find_all('a')[1].text"
   ]
  },
  {
   "cell_type": "code",
   "execution_count": 64,
   "metadata": {},
   "outputs": [
    {
     "name": "stdout",
     "output_type": "stream",
     "text": [
      "1. NSE Academy, GIFT SEZ sign pact to launch certification in international financial services\n",
      "\"Both organisations will jointly create unique certification and regulatory programmes for the corporates and organisations operating in International Financial Services Centre (IFSC) at GIFT City.\"\"\n",
      "2. Firms mop up record Rs 1,88,900 cr in equity capital this fiscal\n",
      "\"Both organisations will jointly create unique certification and regulatory programmes for the corporates and organisations operating in International Financial Services Centre (IFSC) at GIFT City.\"\"\n",
      "3. Trade Setup: Keep an eye on Dollar Index and bond yields; defensive pockets may outperform\n",
      "\"Both organisations will jointly create unique certification and regulatory programmes for the corporates and organisations operating in International Financial Services Centre (IFSC) at GIFT City.\"\"\n",
      "4. Nasdaq opens lower as spike in yields pressures tech stocks\n",
      "\"Both organisations will jointly create unique certification and regulatory programmes for the corporates and organisations operating in International Financial Services Centre (IFSC) at GIFT City.\"\"\n",
      "5. YES Bank surges 17% ahead of inclusion in Nifty Next50 index\n",
      "\"Both organisations will jointly create unique certification and regulatory programmes for the corporates and organisations operating in International Financial Services Centre (IFSC) at GIFT City.\"\"\n",
      "6. Sebi comes out with additional guidelines for surrender of FPI registration\n",
      "\"Both organisations will jointly create unique certification and regulatory programmes for the corporates and organisations operating in International Financial Services Centre (IFSC) at GIFT City.\"\"\n",
      "7. Tech View: Nifty above 20-, 50-DMAs, but may continue to consolidate\n",
      "\"Both organisations will jointly create unique certification and regulatory programmes for the corporates and organisations operating in International Financial Services Centre (IFSC) at GIFT City.\"\"\n",
      "8. F&O: Nifty50 forms healthy bullish candle, as the bulls regain strength\n",
      "\"Both organisations will jointly create unique certification and regulatory programmes for the corporates and organisations operating in International Financial Services Centre (IFSC) at GIFT City.\"\"\n",
      "9. Market Movers: What's behind YES Bank's 17% rally; 56 scrips give buy signals\n",
      "\"Both organisations will jointly create unique certification and regulatory programmes for the corporates and organisations operating in International Financial Services Centre (IFSC) at GIFT City.\"\"\n",
      "10. Day trading guide: 2 stock recommendations for Wednesday\n",
      "\"Both organisations will jointly create unique certification and regulatory programmes for the corporates and organisations operating in International Financial Services Centre (IFSC) at GIFT City.\"\"\n",
      "11. Investors wealthier by Rs 3.5 lakh crore as belligerent bulls help Sensex reclaim Mount 50K\n",
      "\"Both organisations will jointly create unique certification and regulatory programmes for the corporates and organisations operating in International Financial Services Centre (IFSC) at GIFT City.\"\"\n",
      "12. Explained: What caused US hedge fund to blow up & how it can affect markets\n",
      "\"Both organisations will jointly create unique certification and regulatory programmes for the corporates and organisations operating in International Financial Services Centre (IFSC) at GIFT City.\"\"\n",
      "13. Sensex ends over 1,100 points up; HDFC Bank, HCL Tech rise 4% each\n",
      "\"Both organisations will jointly create unique certification and regulatory programmes for the corporates and organisations operating in International Financial Services Centre (IFSC) at GIFT City.\"\"\n",
      "14. How Covid-19 disruption created a blue sky of opportunities for M&As\n",
      "\"Both organisations will jointly create unique certification and regulatory programmes for the corporates and organisations operating in International Financial Services Centre (IFSC) at GIFT City.\"\"\n",
      "15. Stock market news: YES Bank shares surge nearly 17%\n",
      "\"Both organisations will jointly create unique certification and regulatory programmes for the corporates and organisations operating in International Financial Services Centre (IFSC) at GIFT City.\"\"\n",
      "16. UK to focus crypto rules on stablecoins, says minister\n",
      "\"Both organisations will jointly create unique certification and regulatory programmes for the corporates and organisations operating in International Financial Services Centre (IFSC) at GIFT City.\"\"\n"
     ]
    }
   ],
   "source": [
    "length = len(soup.find_all('div',{'class':'eachStory'}))\n",
    "i = 0\n",
    "while i <length:\n",
    "    print (str(i+1)+\". \" + soup.find_all('div',{'class':'eachStory'})[i].find_all('a')[1].text)\n",
    "    print('\"'+ soup.find_all('div',{'class':'eachStory'})[0].find_all('p')[0].text + '\"\"')\n",
    "    i=i+1"
   ]
  },
  {
   "cell_type": "code",
   "execution_count": 61,
   "metadata": {},
   "outputs": [
    {
     "data": {
      "text/plain": [
       "'Both organisations will jointly create unique certification and regulatory programmes for the corporates and organisations operating in International Financial Services Centre (IFSC) at GIFT City.'"
      ]
     },
     "execution_count": 61,
     "metadata": {},
     "output_type": "execute_result"
    }
   ],
   "source": [
    "soup.find_all('div',{'class':'eachStory'})[0].find_all('p')[0].text"
   ]
  },
  {
   "cell_type": "code",
   "execution_count": 76,
   "metadata": {},
   "outputs": [],
   "source": [
    "import pandas as pd\n",
    "\n",
    "length = len(soup.find_all('div',{'class':'eachStory'}))\n",
    "data = {'col1' : [], 'col2' :[]}\n",
    "i = 0\n",
    "while i <length:\n",
    "        data['col1'].append(soup.find_all('div',{'class':'eachStory'})[i].find_all('a')[1].text), \n",
    "        data['col2'].append(soup.find_all('div',{'class':'eachStory'})[i].find_all('p')[0].text)\n",
    "        i=i+1\n",
    "    \n",
    "hasil = pd.DataFrame(data=data)"
   ]
  },
  {
   "cell_type": "code",
   "execution_count": 79,
   "metadata": {},
   "outputs": [],
   "source": [
    "hasil.to_excel (r'C:\\Users\\Lenovo\\Workspace\\scrapping.xlsx', index = False)"
   ]
  },
  {
   "cell_type": "code",
   "execution_count": null,
   "metadata": {},
   "outputs": [],
   "source": []
  }
 ],
 "metadata": {
  "kernelspec": {
   "display_name": "Python 3",
   "language": "python",
   "name": "python3"
  },
  "language_info": {
   "codemirror_mode": {
    "name": "ipython",
    "version": 3
   },
   "file_extension": ".py",
   "mimetype": "text/x-python",
   "name": "python",
   "nbconvert_exporter": "python",
   "pygments_lexer": "ipython3",
   "version": "3.8.5"
  }
 },
 "nbformat": 4,
 "nbformat_minor": 4
}
